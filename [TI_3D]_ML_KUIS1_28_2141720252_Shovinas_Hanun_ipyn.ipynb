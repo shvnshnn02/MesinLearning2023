{
  "nbformat": 4,
  "nbformat_minor": 0,
  "metadata": {
    "colab": {
      "provenance": [],
      "include_colab_link": true
    },
    "kernelspec": {
      "name": "python3",
      "display_name": "Python 3"
    },
    "language_info": {
      "name": "python"
    }
  },
  "cells": [
    {
      "cell_type": "markdown",
      "metadata": {
        "id": "view-in-github",
        "colab_type": "text"
      },
      "source": [
        "<a href=\"https://colab.research.google.com/github/shvnshnn02/MesinLearning2023/blob/main/%5BTI_3D%5D_ML_KUIS1_28_2141720252_Shovinas_Hanun_ipyn.ipynb\" target=\"_parent\"><img src=\"https://colab.research.google.com/assets/colab-badge.svg\" alt=\"Open In Colab\"/></a>"
      ]
    },
    {
      "cell_type": "markdown",
      "source": [
        "**KUIS 1**\n",
        "\n",
        "KELOMPOK 10\n",
        "\n",
        "NAMA KELOMPOK:\n",
        "\n",
        "1. Andhito Galih Nur Cahyo (07/2141720138)\n",
        "\n",
        "2. Aulia Cahya Briliana (09/2141720092)\n",
        "\n",
        "3. Shovinas Hanun (28/2141720252)\n",
        "\n"
      ],
      "metadata": {
        "id": "AN9uTSObqSOl"
      }
    },
    {
      "cell_type": "markdown",
      "source": [
        "**Kasus - Klasifikasi Tulisan Tangan dengan Dataset MNIST**\n"
      ],
      "metadata": {
        "id": "PEt6J2DCu_qe"
      }
    },
    {
      "cell_type": "markdown",
      "source": [
        "**DETAIL KUIS**\n"
      ],
      "metadata": {
        "id": "6iKSw728vc-q"
      }
    },
    {
      "cell_type": "code",
      "source": [
        "# Unduh Dataset MNIST\n",
        "from sklearn.datasets import fetch_openml\n",
        "mnist = fetch_openml('mnist_784')\n",
        "\n",
        "# Baca deskripsi dataset\n",
        "# Tahap ini mungkin diperlukan untuk lebih memahami dataset\n",
        "print(mnist.DESCR)\n",
        "\n",
        "# Inspeksi semua key dalam dataset\n",
        "# Cara ini digunakan untuk memahami struktur dari dataset MNIST\n",
        "mnist.keys()"
      ],
      "metadata": {
        "colab": {
          "base_uri": "https://localhost:8080/"
        },
        "id": "69yHEzJJUJPD",
        "outputId": "9a6fe52a-203d-4190-9bef-e6ff2ef7f48b"
      },
      "execution_count": null,
      "outputs": [
        {
          "output_type": "stream",
          "name": "stderr",
          "text": [
            "/usr/local/lib/python3.10/dist-packages/sklearn/datasets/_openml.py:968: FutureWarning: The default value of `parser` will change from `'liac-arff'` to `'auto'` in 1.4. You can set `parser='auto'` to silence this warning. Therefore, an `ImportError` will be raised from 1.4 if the dataset is dense and pandas is not installed. Note that the pandas parser may return different data types. See the Notes Section in fetch_openml's API doc for details.\n",
            "  warn(\n"
          ]
        },
        {
          "output_type": "stream",
          "name": "stdout",
          "text": [
            "**Author**: Yann LeCun, Corinna Cortes, Christopher J.C. Burges  \n",
            "**Source**: [MNIST Website](http://yann.lecun.com/exdb/mnist/) - Date unknown  \n",
            "**Please cite**:  \n",
            "\n",
            "The MNIST database of handwritten digits with 784 features, raw data available at: http://yann.lecun.com/exdb/mnist/. It can be split in a training set of the first 60,000 examples, and a test set of 10,000 examples  \n",
            "\n",
            "It is a subset of a larger set available from NIST. The digits have been size-normalized and centered in a fixed-size image. It is a good database for people who want to try learning techniques and pattern recognition methods on real-world data while spending minimal efforts on preprocessing and formatting. The original black and white (bilevel) images from NIST were size normalized to fit in a 20x20 pixel box while preserving their aspect ratio. The resulting images contain grey levels as a result of the anti-aliasing technique used by the normalization algorithm. the images were centered in a 28x28 image by computing the center of mass of the pixels, and translating the image so as to position this point at the center of the 28x28 field.  \n",
            "\n",
            "With some classification methods (particularly template-based methods, such as SVM and K-nearest neighbors), the error rate improves when the digits are centered by bounding box rather than center of mass. If you do this kind of pre-processing, you should report it in your publications. The MNIST database was constructed from NIST's NIST originally designated SD-3 as their training set and SD-1 as their test set. However, SD-3 is much cleaner and easier to recognize than SD-1. The reason for this can be found on the fact that SD-3 was collected among Census Bureau employees, while SD-1 was collected among high-school students. Drawing sensible conclusions from learning experiments requires that the result be independent of the choice of training set and test among the complete set of samples. Therefore it was necessary to build a new database by mixing NIST's datasets.  \n",
            "\n",
            "The MNIST training set is composed of 30,000 patterns from SD-3 and 30,000 patterns from SD-1. Our test set was composed of 5,000 patterns from SD-3 and 5,000 patterns from SD-1. The 60,000 pattern training set contained examples from approximately 250 writers. We made sure that the sets of writers of the training set and test set were disjoint. SD-1 contains 58,527 digit images written by 500 different writers. In contrast to SD-3, where blocks of data from each writer appeared in sequence, the data in SD-1 is scrambled. Writer identities for SD-1 is available and we used this information to unscramble the writers. We then split SD-1 in two: characters written by the first 250 writers went into our new training set. The remaining 250 writers were placed in our test set. Thus we had two sets with nearly 30,000 examples each. The new training set was completed with enough examples from SD-3, starting at pattern # 0, to make a full set of 60,000 training patterns. Similarly, the new test set was completed with SD-3 examples starting at pattern # 35,000 to make a full set with 60,000 test patterns. Only a subset of 10,000 test images (5,000 from SD-1 and 5,000 from SD-3) is available on this site. The full 60,000 sample training set is available.\n",
            "\n",
            "Downloaded from openml.org.\n"
          ]
        },
        {
          "output_type": "execute_result",
          "data": {
            "text/plain": [
              "dict_keys(['data', 'target', 'frame', 'categories', 'feature_names', 'target_names', 'DESCR', 'details', 'url'])"
            ]
          },
          "metadata": {},
          "execution_count": 7
        }
      ]
    },
    {
      "cell_type": "markdown",
      "source": [
        "**NO 1**\n",
        "\n",
        "Pastikan jumlah data setiap label angka (0-9). Apakah terdapat data imbalance pada dataset\n",
        "MNIST yang digunakan? Jelaskan jawaban kelompok Anda dan buktikan!\n"
      ],
      "metadata": {
        "id": "w8-PPESSoXft"
      }
    },
    {
      "cell_type": "code",
      "source": [
        "import numpy as np\n",
        "from tensorflow.keras.datasets import mnist\n",
        "\n",
        "# Memuat dataset MNIST\n",
        "(x_train, y_train), (x_test, y_test) = mnist.load_data()\n",
        "\n",
        "# Menghitung jumlah data untuk setiap label (0-9) pada data latih\n",
        "label_counts = np.bincount(y_train)\n",
        "\n",
        "# Menampilkan jumlah data untuk setiap label\n",
        "for i in range(10):\n",
        "    print(f'Jumlah data untuk label {i}: {label_counts[i]}')\n",
        "\n",
        "# Menampilkan informasi tentang ketidakseimbangan data\n",
        "print('Apakah terdapat data imbalance?')\n",
        "print('Ya' if np.max(label_counts) - np.min(label_counts) > 1000 else 'Tidak')"
      ],
      "metadata": {
        "id": "xz-yFQREgY0D",
        "outputId": "96e7b9a2-6916-4f03-e89d-39512f0f0cbb",
        "colab": {
          "base_uri": "https://localhost:8080/"
        }
      },
      "execution_count": null,
      "outputs": [
        {
          "output_type": "stream",
          "name": "stdout",
          "text": [
            "Jumlah data untuk label 0: 5923\n",
            "Jumlah data untuk label 1: 6742\n",
            "Jumlah data untuk label 2: 5958\n",
            "Jumlah data untuk label 3: 6131\n",
            "Jumlah data untuk label 4: 5842\n",
            "Jumlah data untuk label 5: 5421\n",
            "Jumlah data untuk label 6: 5918\n",
            "Jumlah data untuk label 7: 6265\n",
            "Jumlah data untuk label 8: 5851\n",
            "Jumlah data untuk label 9: 5949\n",
            "Apakah terdapat data imbalance?\n",
            "Ya\n"
          ]
        }
      ]
    },
    {
      "cell_type": "markdown",
      "source": [
        "**NO 2**\n",
        "\n",
        " Tampilkan 15 buah citra pertama dari dataset MNIST berserta labelnya. Anda dapat\n",
        " menggunakan referensi dari Job Sheet 03."
      ],
      "metadata": {
        "id": "4BClQmvkoIsT"
      }
    },
    {
      "cell_type": "code",
      "source": [
        "import tensorflow as tf\n",
        "from tensorflow.keras.datasets import mnist\n",
        "import matplotlib.pyplot as plt\n",
        "\n",
        "# Memuat dataset MNIST\n",
        "(x_train, y_train), (_, _) = mnist.load_data()\n",
        "\n",
        "# Menampilkan 15 citra pertama berserta labelnya\n",
        "plt.figure(figsize=(12, 6))\n",
        "for i in range(15):\n",
        "    plt.subplot(3, 5, i + 1)\n",
        "    plt.imshow(x_train[i], cmap='gray')\n",
        "    plt.title(f'Label: {y_train[i]}')\n",
        "    plt.axis('off')\n",
        "plt.show()"
      ],
      "metadata": {
        "colab": {
          "base_uri": "https://localhost:8080/",
          "height": 521
        },
        "id": "pnGz_WMFle1k",
        "outputId": "93a7feaa-88e5-4658-e63e-95d78accbfe7"
      },
      "execution_count": null,
      "outputs": [
        {
          "output_type": "display_data",
          "data": {
            "text/plain": [
              "<Figure size 1200x600 with 15 Axes>"
            ],
            "image/png": "[encoded data removed]"
          },
          "metadata": {}
        }
      ]
    },
    {
      "cell_type": "markdown",
      "source": [
        "**NO 3**\n",
        "\n",
        "Lakukan proses ekstraksi tur pada data MNIST. Pada proses ini, Anda diperbolehkan untuk\n",
        "\n",
        "- Langsung menggunakan nilai asli dari citra (nilai asli setiap pixel dari dataset) sebagai fitur.\n",
        "- Melakukan ekstraksi tur lain seperti histogram, PCA, atau yang lainnya. Anda diperbolehkan melakukan ekspolarasi pada proses ini."
      ],
      "metadata": {
        "id": "P_dzZmhdyHmc"
      }
    },
    {
      "cell_type": "code",
      "source": [
        "import tensorflow as tf\n",
        "from tensorflow.keras.datasets import mnist\n",
        "\n",
        "# Memuat dataset MNIST\n",
        "(x_train, y_train), (x_test, y_test) = mnist.load_data()\n",
        "\n",
        "# Reshape citra menjadi vektor 1D\n",
        "x_train = x_train.reshape(x_train.shape[0], -1)\n",
        "x_test = x_test.reshape(x_test.shape[0], -1)\n",
        "\n",
        "# Normalisasi nilai piksel ke rentang 0 hingga 1\n",
        "x_train = x_train.astype('float32') / 255.0\n",
        "x_test = x_test.astype('float32') / 255.0\n",
        "\n",
        "# Sekarang x_train adalah matriks fitur dengan setiap baris adalah vektor fitur dari satu citra"
      ],
      "metadata": {
        "id": "JzcXVAB8nOGi"
      },
      "execution_count": null,
      "outputs": []
    },
    {
      "cell_type": "code",
      "source": [
        "import numpy as np\n",
        "import matplotlib.pyplot as plt\n",
        "from tensorflow.keras.datasets import mnist\n",
        "\n",
        "# Memuat dataset MNIST\n",
        "(x_train, y_train), (x_test, y_test) = mnist.load_data()\n",
        "\n",
        "# Fungsi untuk menghitung histogram citra\n",
        "def compute_histogram(image):\n",
        "    # Hitung histogram citra dengan 256 bin (untuk gambar grayscale)\n",
        "    hist, _ = np.histogram(image, bins=256, range=(0, 256))\n",
        "    return hist\n",
        "\n",
        "# Ekstraksi fitur histogram dari seluruh dataset\n",
        "x_train_histogram = np.array([compute_histogram(image) for image in x_train])\n",
        "\n",
        "# Tampilkan histogram dari satu citra\n",
        "plt.figure(figsize=(8, 4))\n",
        "plt.plot(x_train_histogram[0])\n",
        "plt.title(\"Histogram dari Satu Citra MNIST\")\n",
        "plt.xlabel(\"Nilai Piksel\")\n",
        "plt.ylabel(\"Frekuensi\")\n",
        "plt.show()"
      ],
      "metadata": {
        "colab": {
          "base_uri": "https://localhost:8080/",
          "height": 410
        },
        "id": "uxv-_Sb5tFO8",
        "outputId": "addd6bd7-8d8c-44da-8c24-84d1b9be6c0f"
      },
      "execution_count": null,
      "outputs": [
        {
          "output_type": "display_data",
          "data": {
            "text/plain": [
              "<Figure size 800x400 with 1 Axes>"
            ],
            "image/png": "[encoded data removed]"
          },
          "metadata": {}
        }
      ]
    },
    {
      "cell_type": "markdown",
      "source": [
        "**NO 4**\n",
        "\n",
        "Buatlah data training dan data testing menggunakan rasio 70:30, 80:20, 90:10."
      ],
      "metadata": {
        "id": "juRIDQIiyTnJ"
      }
    },
    {
      "cell_type": "code",
      "source": [
        "import numpy as np\n",
        "from sklearn.model_selection import train_test_split\n",
        "\n",
        "# Data Anda (gantilah ini dengan data Anda)\n",
        "from sklearn.datasets import fetch_openml\n",
        "mnist = fetch_openml('mnist_784')\n",
        "\n",
        "# Rasio 70:30\n",
        "X_train_70, X_test_30, y_train_70, y_test_30 = train_test_split(X, y, test_size=0.3, random_state=42)\n",
        "\n",
        "# Rasio 80:20\n",
        "X_train_80, X_test_20, y_train_80, y_test_20 = train_test_split(X, y, test_size=0.2, random_state=42)\n",
        "\n",
        "# Rasio 90:10\n",
        "X_train_90, X_test_10, y_train_90, y_test_10 = train_test_split(X, y, test_size=0.1, random_state=42)\n",
        "\n",
        "# Tampilkan ukuran setiap bagian data\n",
        "print(\"Rasio 70:30\")\n",
        "print(\"Data Training:\", X_train_70.shape, y_train_70.shape)\n",
        "print(\"Data Testing:\", X_test_30.shape, y_test_30.shape)\n",
        "print(\"\")\n",
        "\n",
        "print(\"Rasio 80:20\")\n",
        "print(\"Data Training:\", X_train_80.shape, y_train_80.shape)\n",
        "print(\"Data Testing:\", X_test_20.shape, y_test_20.shape)\n",
        "print(\"\")\n",
        "\n",
        "print(\"Rasio 90:10\")\n",
        "print(\"Data Training:\", X_train_90.shape, y_train_90.shape)\n",
        "print(\"Data Testing:\", X_test_10.shape, y_test_10.shape)\n"
      ],
      "metadata": {
        "id": "tojAcX5Ix6EY",
        "outputId": "24600f39-38f8-456d-bb02-a7b9f453d875",
        "colab": {
          "base_uri": "https://localhost:8080/",
          "height": 300
        }
      },
      "execution_count": null,
      "outputs": [
        {
          "output_type": "stream",
          "name": "stderr",
          "text": [
            "/usr/local/lib/python3.10/dist-packages/sklearn/datasets/_openml.py:968: FutureWarning: The default value of `parser` will change from `'liac-arff'` to `'auto'` in 1.4. You can set `parser='auto'` to silence this warning. Therefore, an `ImportError` will be raised from 1.4 if the dataset is dense and pandas is not installed. Note that the pandas parser may return different data types. See the Notes Section in fetch_openml's API doc for details.\n",
            "  warn(\n"
          ]
        },
        {
          "output_type": "error",
          "ename": "NameError",
          "evalue": "ignored",
          "traceback": [
            "\u001b[0;31m---------------------------------------------------------------------------\u001b[0m",
            "\u001b[0;31mNameError\u001b[0m                                 Traceback (most recent call last)",
            "\u001b[0;32m<ipython-input-17-5a8691391fe8>\u001b[0m in \u001b[0;36m<cell line: 9>\u001b[0;34m()\u001b[0m\n\u001b[1;32m      7\u001b[0m \u001b[0;34m\u001b[0m\u001b[0m\n\u001b[1;32m      8\u001b[0m \u001b[0;31m# Rasio 70:30\u001b[0m\u001b[0;34m\u001b[0m\u001b[0;34m\u001b[0m\u001b[0m\n\u001b[0;32m----> 9\u001b[0;31m \u001b[0mX_train_70\u001b[0m\u001b[0;34m,\u001b[0m \u001b[0mX_test_30\u001b[0m\u001b[0;34m,\u001b[0m \u001b[0my_train_70\u001b[0m\u001b[0;34m,\u001b[0m \u001b[0my_test_30\u001b[0m \u001b[0;34m=\u001b[0m \u001b[0mtrain_test_split\u001b[0m\u001b[0;34m(\u001b[0m\u001b[0mX\u001b[0m\u001b[0;34m,\u001b[0m \u001b[0my\u001b[0m\u001b[0;34m,\u001b[0m \u001b[0mtest_size\u001b[0m\u001b[0;34m=\u001b[0m\u001b[0;36m0.3\u001b[0m\u001b[0;34m,\u001b[0m \u001b[0mrandom_state\u001b[0m\u001b[0;34m=\u001b[0m\u001b[0;36m42\u001b[0m\u001b[0;34m)\u001b[0m\u001b[0;34m\u001b[0m\u001b[0;34m\u001b[0m\u001b[0m\n\u001b[0m\u001b[1;32m     10\u001b[0m \u001b[0;34m\u001b[0m\u001b[0m\n\u001b[1;32m     11\u001b[0m \u001b[0;31m# Rasio 80:20\u001b[0m\u001b[0;34m\u001b[0m\u001b[0;34m\u001b[0m\u001b[0m\n",
            "\u001b[0;31mNameError\u001b[0m: name 'X' is not defined"
          ]
        }
      ]
    },
    {
      "cell_type": "code",
      "source": [
        "import numpy as np\n",
        "from sklearn.model_selection import train_test_split\n",
        "\n",
        "# Data Anda (contoh)\n",
        "\n",
        "# Pembagian data dengan rasio 70:30\n",
        "X_train_70, X_test_30, y_train_70, y_test_30 = train_test_split(X, y, test_size=0.3, random_state=42)\n",
        "\n",
        "# Pembagian data dengan rasio 80:20\n",
        "X_train_80, X_test_20, y_train_80, y_test_20 = train_test_split(X, y, test_size=0.2, random_state=42)\n",
        "\n",
        "# Pembagian data dengan rasio 90:10\n",
        "X_train_90, X_test_10, y_train_90, y_test_10 = train_test_split(X, y, test_size=0.1, random_state=42)\n",
        "\n",
        "# Tampilkan ukuran setiap bagian data\n",
        "print(\"Rasio 70:30\")\n",
        "print(\"Data Training:\", X_train_70.shape, y_train_70.shape)\n",
        "print(\"Data Testing:\", X_test_30.shape, y_test_30.shape)\n",
        "print(\"\")\n",
        "\n",
        "print(\"Rasio 80:20\")\n",
        "print(\"Data Training:\", X_train_80.shape, y_train_80.shape)\n",
        "print(\"Data Testing:\", X_test_20.shape, y_test_20.shape)\n",
        "print(\"\")\n",
        "\n",
        "print(\"Rasio 90:10\")\n",
        "print(\"Data Training:\", X_train_90.shape, y_train_90.shape)\n",
        "print(\"Data Testing:\", X_test_10.shape, y_test_10.shape)\n"
      ],
      "metadata": {
        "colab": {
          "base_uri": "https://localhost:8080/"
        },
        "id": "1mKt-QQmCMNS",
        "outputId": "7b0ca8dd-20f4-4c31-9f3b-e8c139d9c50e"
      },
      "execution_count": null,
      "outputs": [
        {
          "output_type": "stream",
          "name": "stdout",
          "text": [
            "Rasio 70:30\n",
            "Data Training: (70,) (70,)\n",
            "Data Testing: (30,) (30,)\n",
            "\n",
            "Rasio 80:20\n",
            "Data Training: (80,) (80,)\n",
            "Data Testing: (20,) (20,)\n",
            "\n",
            "Rasio 90:10\n",
            "Data Training: (90,) (90,)\n",
            "Data Testing: (10,) (10,)\n"
          ]
        }
      ]
    },
    {
      "cell_type": "markdown",
      "source": [
        "**NO 5**\n",
        "\n",
        " Lakukan proses klasikasi dengan menggunakan algoritma Naive Bayes dan SVM.\n",
        " - Anda diperbolehkan untuk melakukan tunning parameter.\n",
        " - Anda diperbolehkan mengeksplorasi jenis kernel yang digunakan pada SVM."
      ],
      "metadata": {
        "id": "S3rqaUNO0kXO"
      }
    }
  ]
}